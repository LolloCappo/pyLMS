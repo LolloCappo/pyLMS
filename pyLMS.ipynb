{
 "cells": [
  {
   "cell_type": "code",
   "execution_count": 1,
   "metadata": {},
   "outputs": [],
   "source": [
    "import numpy as np\n",
    "import scipy.io"
   ]
  },
  {
   "cell_type": "code",
   "execution_count": 2,
   "metadata": {},
   "outputs": [],
   "source": [
    "def pyLMS(filename):\n",
    "    '''\n",
    "    Open acquisition .mat files saved from LMS Testlab\n",
    "    '''\n",
    "    mat = scipy.io.loadmat(filename)\n",
    "    \n",
    "    x = np.ravel(mat['Signal']['x_values'])\n",
    "    x_start = x[0][0][0][0][0][0]\n",
    "    x_step = x[0][0][0][1][0][0]\n",
    "    x_numbers = x[0][0][0][2][0][0]\n",
    "    x_unit = x[0][0][0][3][0][0][0][0]\n",
    "    x_vect = np.linspace(x_start,x_numbers*x_step,x_numbers)\n",
    "    \n",
    "    if x_unit=='s':\n",
    "        x_mag = 'Time'\n",
    "    elif x_unit == 'hz':\n",
    "        x_mag = 'Frequency'\n",
    "        \n",
    "    y = np.ravel(mat['Signal']['y_values'])\n",
    "    y_unit = y[0][0][0][1][0][0][0][0]\n",
    "    y_conversion = y[0][0][0][1][0][0][1][0][0][1][0][0]  # m/s2 to g\n",
    "    y_vect = np.ravel(y[0][0][0][0]) * y_conversion\n",
    "    \n",
    "    if y_unit=='g':\n",
    "        y_mag = 'Acceleration'\n",
    "    elif y_unit == 'N':\n",
    "        y_mag = 'Force'\n",
    "        \n",
    "    data = {'x' : x_vect, 'y' : y_vect}\n",
    "    units = {'x' : x_unit, 'y' : y_unit}\n",
    "    mags = {'x' : x_mag, 'y' : y_mag}\n",
    "    out = {'signals': data, 'units': units,'mags': mags}\n",
    "    return  out"
   ]
  },
  {
   "cell_type": "code",
   "execution_count": 3,
   "metadata": {},
   "outputs": [],
   "source": [
    "data = pyLMS('prova.mat')"
   ]
  },
  {
   "cell_type": "code",
   "execution_count": null,
   "metadata": {},
   "outputs": [],
   "source": []
  }
 ],
 "metadata": {
  "kernelspec": {
   "display_name": "Python 3",
   "language": "python",
   "name": "python3"
  },
  "language_info": {
   "codemirror_mode": {
    "name": "ipython",
    "version": 3
   },
   "file_extension": ".py",
   "mimetype": "text/x-python",
   "name": "python",
   "nbconvert_exporter": "python",
   "pygments_lexer": "ipython3",
   "version": "3.7.6"
  }
 },
 "nbformat": 4,
 "nbformat_minor": 4
}
